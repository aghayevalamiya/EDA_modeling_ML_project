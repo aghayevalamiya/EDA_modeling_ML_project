{
  "nbformat": 4,
  "nbformat_minor": 0,
  "metadata": {
    "colab": {
      "provenance": [],
      "collapsed_sections": []
    },
    "kernelspec": {
      "name": "python3",
      "display_name": "Python 3"
    },
    "language_info": {
      "name": "python"
    }
  },
  "cells": [
    {
      "cell_type": "markdown",
      "source": [
        "# Tapşırıq 1. FizzBuzz oyunu\n",
        "\n",
        "Bu hissədə etməli olduğunuz FizzBuzz oyununu yazmaqdır. İlk öncə oyunun şərtlərilə tanış olaq:\n",
        "\n",
        "* Müəyyən bir ədəd seçilir və 1dən başlayaraq bu ədəd doğru sayılır\n",
        "* Əgər sayılan ədəd:\n",
        "    * 3ə bölünürsə həmin ədədin əvəzinə \"Fizz\";\n",
        "    * 5ə bölünürsə həmin ədədin əvəzinə \"Buzz\";\n",
        "    * Həm 3ə həm 5ə bölünürsə həmin ədədin əvəzinə \"FizzBuzz\" yazılır\n",
        "    * Bu şərtlərin heç biri ödənmədikdə sadəcə ədədin özü deyilir\n",
        "\n",
        "--- \n",
        "\n",
        "Bu tapşırıq üçün FizzBuzz adlı bir funksiya yazmalısınız. Bu funksiya istifaddəçidən input olaraq limit ədədi soruşur və bu ədədə qədər saymağa başlayaraq yuxarıdakı qaydalara uyğun olaraq nəticə çıxarmalıdır. Bundan əlavə funksiya sonda həmin ədədə qədər olan ümumi Fizz, Buzz və FizzBuzz-ların sayını çap etməlidir."
      ],
      "metadata": {
        "id": "cWnq079MU-bO"
      }
    },
    {
      "cell_type": "code",
      "source": [
        "def FizzBuzz():\n",
        "  n = int(input(\"Limit ededi daxil edin : \"))\n",
        "  count_fizz = 0\n",
        "  count_buzz = 0\n",
        "  count_fb = 0\n",
        "  for i in range(1,n):\n",
        "    if(i != (n-1)):\n",
        "   \n",
        "      if(i % 3 == 0 and i % 5 != 0):\n",
        "        print(\"Fizz\",end = \",\")\n",
        "        count_fizz += 1\n",
        "      elif (i % 5 == 0 and i % 3 != 0):\n",
        "        print(\"Buzz\",end = \",\")\n",
        "        count_buzz += 1\n",
        "      elif(i % 3 == 0 and i % 5 == 0):\n",
        "        print(\"FizzBuzz\",end = \",\")\n",
        "        count_fb += 1\n",
        "      else:\n",
        "        print(i,end = \",\")\n",
        "    if(i == (n-1)):\n",
        "   \n",
        "      if(i % 3 == 0 and i % 5 != 0):\n",
        "        print(\"Fizz\")\n",
        "        count_fizz += 1\n",
        "      elif (i % 5 == 0 and i % 3 != 0):\n",
        "        print(\"Buzz\")\n",
        "        count_buzz += 1\n",
        "      elif(i % 3 == 0 and i % 5 == 0):\n",
        "        print(\"FizzBuzz\")\n",
        "        count_fb += 1\n",
        "      else:\n",
        "        print(i)\n",
        "  print(f\"Count of Fizz : {count_fizz} \")\n",
        "  print(f\"Count of Buzz : {count_buzz} \")\n",
        "  print(f\"Count of FizzBuzz : {count_fb} \")\n",
        "FizzBuzz()"
      ],
      "metadata": {
        "colab": {
          "base_uri": "https://localhost:8080/"
        },
        "id": "DWKFYXj60wd_",
        "outputId": "7a548c8d-0f86-407e-d722-51504aea214e"
      },
      "execution_count": null,
      "outputs": [
        {
          "output_type": "stream",
          "name": "stdout",
          "text": [
            "Limit ededi daxil edin : 60\n",
            "1,2,Fizz,4,Buzz,Fizz,7,8,Fizz,Buzz,11,Fizz,13,14,FizzBuzz,16,17,Fizz,19,Buzz,Fizz,22,23,Fizz,Buzz,26,Fizz,28,29,FizzBuzz,31,32,Fizz,34,Buzz,Fizz,37,38,Fizz,Buzz,41,Fizz,43,44,FizzBuzz,46,47,Fizz,49,Buzz,Fizz,52,53,Fizz,Buzz,56,Fizz,58,59\n",
            "Count of Fizz : 16 \n",
            "Count of Buzz : 8 \n",
            "Count of FizzBuzz : 3 \n"
          ]
        }
      ]
    },
    {
      "cell_type": "markdown",
      "source": [
        "# Tapşırıq 2. Fibonaçi Seriyası\n",
        "\n",
        "Bu tapşırıqda fibonaçi seriyasını çap edən bir funksiya yazacaqsınız. Fibonaçi seriyası 0, 1 olaraq başlayır və sonrakı hər bir ədəd özündən əvvəlki 2 ədədin cəminə bərabərdir:\n",
        "\n",
        "`0, 1, 1, 2, 3, 5, 8, 13, ...`\n",
        "\n",
        "* 1 = 0 + 1\n",
        "* 2 = 1 + 1\n",
        "* 3 = 2 + 1 və s.\n",
        "\n",
        "Fibonaçi funksiyası 2 üsulla həll olunmalıdır:\n",
        "* loop-lardan istifadə ilə\n",
        "* recursion-dan istifadə ilə\n",
        "\n",
        "Funksiya istifadəçidən neçə fibonaçi ədədi çıxarmaq istədiyini soruşmlaıdır və bu sayda ardıcıllıqla fibonaçi ədədlərini çıxarmaq lazımdır."
      ],
      "metadata": {
        "id": "kBSQq258or5i"
      }
    },
    {
      "cell_type": "code",
      "source": [
        "def fib_loop(n):\n",
        "  f = []\n",
        "  f.append(0)\n",
        "  print(f[0],end = \",\")\n",
        "  f.append(1)\n",
        "  print(f[1], end = \",\")\n",
        "  for i in range(n-2):\n",
        "    f.append(f[i] + f[i+1])\n",
        "    if i != (n-3):\n",
        "      print(f[i+2] , end = \",\")\n",
        "    else:\n",
        "      print(f[i+2])\n",
        "fib_loop(7)"
      ],
      "metadata": {
        "id": "hooW-zd71OQ3"
      },
      "execution_count": null,
      "outputs": []
    },
    {
      "cell_type": "code",
      "source": [
        "def fib_rec(n):\n",
        "  if n in {0,1}:\n",
        "    return n\n",
        "  return fib_rec(n-1) + fib_rec(n-2)\n",
        "  \n",
        "n = int(input(\"Neçə fibonaççi ededi iteyirsiniz : \"))\n",
        "for i in range(n):\n",
        "  fib_rec(i)\n",
        "  if i != (n-1):\n",
        "    print(fib_rec(i) , end = \",\")\n",
        "  else :\n",
        "    print(fib_rec(i))"
      ],
      "metadata": {
        "id": "YzhIF5lu1TPi"
      },
      "execution_count": null,
      "outputs": []
    },
    {
      "cell_type": "markdown",
      "source": [
        "# Tapşırıq 3. String-də character sayı\n",
        "\n",
        "Bu tapşırıqda yazacağınız funksiya input olaraq aşağıdakı string-i götürməli və həmin string-dəki ən çox təkrarlanan 3 character-i (Upper və lowercase ayrılıqda və boşluq da daxil olmaqla) və onların sayını göstərməlidir.\n",
        "\n",
        "***Qeyd!*** Bu əməliyyatı 3 sətrdən az olmaqla (funksiya olmasa da olar) yerinə yetirə bilən kod yazdığınız halda əlavə aktivlik balı alacaqsınız! 😉\n",
        "\n",
        "![task 3](https://pbs.twimg.com/media/FSytBSIXsAIej_6?format=jpg&name=large)"
      ],
      "metadata": {
        "id": "em-tUqVtx_0K"
      }
    },
    {
      "cell_type": "code",
      "source": [
        "import numpy as np\n",
        "def max_char(n):\n",
        "  count_char = []\n",
        "  for i in range(len(n)):\n",
        "    count_char.append(n.count(n[i]))\n",
        "  max_char_num = np.unique(count_char)[-3:]\n",
        "  print(max_char_num)\n",
        "  max_char = []\n",
        "  for i in max_char_num:\n",
        "    for j in range(len(n)):\n",
        "      if n.count(n[j] )== i:\n",
        "        max_char.append(n[j])\n",
        "  print((max_char))\n",
        "\n",
        "words = \"The little red fox jumped over a fence and bit a python\"\n",
        "max_char(words)"
      ],
      "metadata": {
        "colab": {
          "base_uri": "https://localhost:8080/"
        },
        "id": "LQkZXpsy1fYN",
        "outputId": "64e91c39-63eb-4e79-c5a5-f5483feca8e5"
      },
      "execution_count": null,
      "outputs": [
        {
          "output_type": "stream",
          "name": "stdout",
          "text": [
            "[ 4  7 11]\n",
            "['t', 't', 't', 't', 'e', 'e', 'e', 'e', 'e', 'e', 'e', ' ', ' ', ' ', ' ', ' ', ' ', ' ', ' ', ' ', ' ', ' ']\n"
          ]
        }
      ]
    },
    {
      "cell_type": "code",
      "source": [],
      "metadata": {
        "id": "9a7_kUJpFDXo"
      },
      "execution_count": null,
      "outputs": []
    }
  ]
}